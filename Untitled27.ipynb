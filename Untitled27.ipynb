{
  "nbformat": 4,
  "nbformat_minor": 0,
  "metadata": {
    "colab": {
      "provenance": []
    },
    "kernelspec": {
      "name": "python3",
      "display_name": "Python 3"
    },
    "language_info": {
      "name": "python"
    }
  },
  "cells": [
    {
      "cell_type": "markdown",
      "source": [
        "LSTM\n",
        "\n",
        "Pertama-tama mari kita buat sampel jaringan LSTM kecil untuk memahami arsitektur jaringan LSTM.\n",
        "\n",
        "Kita perlu mengimpor modul yang diperlukan untuk kode kita. Tentu saja kita membutuhkan numpy dan tensorflow. Selain itu, kita dapat mengimpor langsung model tensorflow.contrib.rnn, yang mencakup fungsi untuk membuat RNN."
      ],
      "metadata": {
        "id": "--L0XaZUbfZN"
      }
    },
    {
      "cell_type": "code",
      "source": [
        "import numpy as np\n",
        "import tensorflow as tf\n",
        "from tensorflow.keras.layers import LSTM\n",
        "\n",
        "# Menjalankan operasi pada perangkat default (biasanya CPU)\n",
        "with tf.device(\"\"):\n",
        "  x = tf.constant([1, 2, 3])\n",
        "  y = tf.constant([4, 5, 6])\n",
        "  z = tf.add(x, y)\n",
        "  print(z.numpy())  # Output: [5 7 9]\n",
        "\n",
        "# Menetapkan perangkat secara eksplisit untuk perkalian matriks\n",
        "with tf.device(\"/gpu:0\"):\n",
        "  matrix1 = tf.random.normal([2, 3])\n",
        "  matrix2 = tf.random.normal([3, 4])\n",
        "  hasil = tf.matmul(matrix1, matrix2)\n",
        "  print(hasil.numpy())  # Melakukan perkalian matriks pada GPU\n"
      ],
      "metadata": {
        "id": "kC4UMrUOgDbv"
      },
      "execution_count": null,
      "outputs": []
    },
    {
      "cell_type": "code",
      "source": [
        "LSTM_CELL_SIZE = 4  # ukuran output (dimensi), yang sama dengan hidden size di dalam sel\n",
        "\n",
        "lstm_cell = tf.keras.layers.LSTMCell(LSTM_CELL_SIZE)  # state_is_tuple secara default Benar\n",
        "\n",
        "# ... sisa kode Anda menggunakan lstm_cell\n"
      ],
      "metadata": {
        "id": "GyZSDvIwdRoG"
      },
      "execution_count": 27,
      "outputs": []
    },
    {
      "cell_type": "code",
      "source": [
        "sample_input = tf.constant([[3, 2, 2, 2, 2, 2]], dtype=tf.float32)\n",
        "print(sample_input)  # Ini akan langsung mencetak tensor\n"
      ],
      "metadata": {
        "id": "A-1SQ7LDdVrO"
      },
      "execution_count": null,
      "outputs": []
    },
    {
      "cell_type": "code",
      "source": [
        "LSTM_CELL_SIZE = 4\n",
        "batch_size = 1  # Assuming a batch size of 1 for this example\n",
        "\n",
        "with tf.name_scope(\"LSTM_sample1\"):\n",
        "    lstm_cell = tf.keras.layers.LSTMCell(LSTM_CELL_SIZE)\n",
        "\n",
        "    # Define initial state (zeros for this example)\n",
        "    initial_state = (tf.zeros([batch_size, LSTM_CELL_SIZE]), tf.zeros([batch_size, LSTM_CELL_SIZE]))\n",
        "\n",
        "    output, state_new = lstm_cell(sample_input, initial_state)\n",
        "\n",
        "# ... rest of your code\n",
        "\n"
      ],
      "metadata": {
        "id": "8ouW0qUhdaLO"
      },
      "execution_count": 29,
      "outputs": []
    },
    {
      "cell_type": "code",
      "source": [
        "print (output)"
      ],
      "metadata": {
        "id": "_X6sxjijdgvO"
      },
      "execution_count": null,
      "outputs": []
    },
    {
      "cell_type": "markdown",
      "source": [
        "Stacked LSTM\n",
        "\n",
        "Bagaimana jika kita ingin memiliki RNN dengan LSTM bertumpuk? Misalnya LSTM 2 lapis. Dalam hal ini, keluaran lapisan pertama akan menjadi masukan lapisan kedua.\n",
        "\n",
        "Mari kita mulai dengan sesi baru:"
      ],
      "metadata": {
        "id": "kQ1Y3ViMdnrH"
      }
    },
    {
      "cell_type": "code",
      "source": [
        "# Sel LSTM Anda dan kode lainnya menggunakan operasi TensorFlow...\n",
        "\n",
        "# Tidak perlu mendefinisikan sesi di sini\n",
        "# Operasi dijalankan secara otomatis\n",
        "\n",
        "# Contoh penggunaan (dengan asumsi Anda telah menentukan sample_input dan sel LSTM)\n",
        "output, state_new = lstm_cell(sample_input, initial_state)\n",
        "\n",
        "print(output)  # Ini akan langsung mencetak tensor keluaran\n"
      ],
      "metadata": {
        "id": "6njxt655d2VN"
      },
      "execution_count": null,
      "outputs": []
    },
    {
      "cell_type": "code",
      "source": [
        "input_dim = 6"
      ],
      "metadata": {
        "id": "bUgOf7fmd9q9"
      },
      "execution_count": 32,
      "outputs": []
    },
    {
      "cell_type": "markdown",
      "source": [
        "\n",
        "Mari buat sel LSTM bertumpuk:"
      ],
      "metadata": {
        "id": "NueoxjppeEoN"
      }
    },
    {
      "cell_type": "code",
      "source": [
        "cells = []"
      ],
      "metadata": {
        "id": "rHKwzQJld__l"
      },
      "execution_count": 33,
      "outputs": []
    },
    {
      "cell_type": "markdown",
      "source": [
        "Membuat sel LTSM lapisan pertama."
      ],
      "metadata": {
        "id": "Y281EItVeM59"
      }
    },
    {
      "cell_type": "code",
      "source": [
        "LSTM_CELL_SIZE_1 = 4  # 4 node tersembunyi\n",
        "\n",
        "cell1 = tf.keras.layers.LSTMCell(LSTM_CELL_SIZE_1)\n",
        "# ... sisa kode Anda menggunakan sel1\n"
      ],
      "metadata": {
        "id": "L0XR9_-GeMW0"
      },
      "execution_count": 34,
      "outputs": []
    },
    {
      "cell_type": "markdown",
      "source": [
        "Membuat sel LTSM lapisan kedua."
      ],
      "metadata": {
        "id": "iAEdfX8zeVL2"
      }
    },
    {
      "cell_type": "code",
      "source": [
        "LSTM_CELL_SIZE_2 = 5  # 5 node tersembunyi\n",
        "\n",
        "cell2 = tf.keras.layers.LSTMCell(LSTM_CELL_SIZE_2)\n",
        "\n",
        "# ... sisa kode Anda menggunakan sel2\n"
      ],
      "metadata": {
        "id": "DHxiPs2SeWhF"
      },
      "execution_count": 35,
      "outputs": []
    },
    {
      "cell_type": "markdown",
      "source": [
        "Untuk membuat LTSM multi-lapis, kami menggunakan fungsi tf.contrib.rnnMultiRNNCell, yang memerlukan beberapa sel LTSM lapisan tunggal untuk membuat model LTSM bertumpuk multi-lapis."
      ],
      "metadata": {
        "id": "I2_duDHueejQ"
      }
    },
    {
      "cell_type": "code",
      "source": [
        "from keras.models import Sequential\n",
        "from keras.layers import LSTM\n",
        "\n",
        "timesteps = 10  # Misalnya, 10 langkah waktu dalam setiap sampel data\n",
        "features = 5    # Misalnya, 5 fitur dalam setiap langkah waktu\n",
        "\n",
        "# Mendefinisikan model LSTM bertumpuk\n",
        "stacked_lstm = [\n",
        "    LSTM(64, return_sequences=True, input_shape=(timesteps, features)),\n",
        "    LSTM(64, return_sequences=True),\n",
        "    LSTM(64)\n",
        "]\n",
        "\n",
        "# **Pastikan baris ini TIDAK TERKOMENTAR**\n",
        "stacked_lstm_model = Sequential(stacked_lstm)\n",
        "\n",
        "# ... (sisa kode Anda)\n"
      ],
      "metadata": {
        "id": "1rrs6iUCegJ1"
      },
      "execution_count": 36,
      "outputs": []
    },
    {
      "cell_type": "code",
      "source": [
        "#Batch size x time steps x features.\n",
        "sample_input = [[[1,2,3,4,3,2], [1,2,1,1,1,2],[1,2,2,2,2,2]],[[1,2,3,4,3,2],[3,2,2,1,1,2],[0,0,0,0,3,2]]]\n",
        "sample_input"
      ],
      "metadata": {
        "id": "DZgBBjl0ettG"
      },
      "execution_count": null,
      "outputs": []
    },
    {
      "cell_type": "markdown",
      "source": [
        "kita sekarang dapat mengirim masukan kita ke jaringan, dan memeriksa hasilnya:"
      ],
      "metadata": {
        "id": "tY8F4DDie2dP"
      }
    },
    {
      "cell_type": "code",
      "source": [
        "output"
      ],
      "metadata": {
        "id": "ZmJBfhN2e3N1"
      },
      "execution_count": null,
      "outputs": []
    },
    {
      "cell_type": "code",
      "source": [
        "# Ukuran batch x langkah waktu x fitur.\n",
        "inputs = tf.keras.Input(shape=(None, input_dim))\n",
        "\n",
        "# Membuat lapisan LSTM\n",
        "lstm_layer = LSTM(64, return_sequences=True)\n",
        "\n",
        "# Menghubungkan lapisan LSTM ke input\n",
        "output = lstm_layer(inputs)\n",
        "\n",
        "# Membuat model dari input dan output\n",
        "model = tf.keras.Model(inputs=inputs, outputs=output)\n",
        "\n",
        "# Compile model\n",
        "model.compile(optimizer='adam', loss='mse')"
      ],
      "metadata": {
        "id": "MHpy_6dke6SG"
      },
      "execution_count": 46,
      "outputs": []
    }
  ]
}